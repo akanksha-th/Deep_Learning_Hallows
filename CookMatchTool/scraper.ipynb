{
  "cells": [
    {
      "cell_type": "code",
      "execution_count": 17,
      "metadata": {
        "id": "hTE3wAaVvXdZ"
      },
      "outputs": [],
      "source": [
        "import bs4\n",
        "import pickle\n",
        "import requests\n",
        "import csv"
      ]
    },
    {
      "cell_type": "code",
      "execution_count": 18,
      "metadata": {
        "id": "8fHKd6JNvbTa"
      },
      "outputs": [],
      "source": [
        "# DATA SCRAPING FROM \"https://www.bbcgoodfood.com/\" WEBSITE\n",
        "req_page = requests.get(\"https://www.bbcgoodfood.com/\")\n",
        "html_file = bs4.BeautifulSoup(req_page.text, \"html.parser\")"
      ]
    },
    {
      "cell_type": "code",
      "execution_count": 29,
      "metadata": {
        "colab": {
          "base_uri": "https://localhost:8080/"
        },
        "id": "phh8dGHcwjGi",
        "outputId": "678ef788-2ba4-4e02-babc-09c6b9671ea3"
      },
      "outputs": [
        {
          "name": "stdout",
          "output_type": "stream",
          "text": [
            "Successfully Found Guide Links!!\n",
            "44\n"
          ]
        }
      ],
      "source": [
        "guide_links = []\n",
        "tags = ['/recipes/']\n",
        "for link in html_file.find_all('a', role='menuitem'):\n",
        "  try:\n",
        "    for tag in tags:\n",
        "      if tag in link['href']:\n",
        "        guide_links.append(link['href'])\n",
        "      else:\n",
        "        continue\n",
        "  except:\n",
        "    continue\n",
        "\n",
        "print(\"Successfully Found Guide Links!!\")\n",
        "print(len(guide_links))"
      ]
    },
    {
      "cell_type": "code",
      "execution_count": 49,
      "metadata": {
        "colab": {
          "base_uri": "https://localhost:8080/",
          "height": 360
        },
        "id": "xHhL0518yq4g",
        "outputId": "9acef4b5-e96b-4d9b-9e02-11cba21c8b43"
      },
      "outputs": [
        {
          "name": "stdout",
          "output_type": "stream",
          "text": [
            "Scraping complete! Data saved to bbc_good_food_recipes.csv\n"
          ]
        }
      ],
      "source": [
        "recipe_names = []\n",
        "ingredients_list = []\n",
        "instructions_list = []\n",
        "image_links = []\n",
        "cook_time=[]\n",
        "\n",
        "def scrape_recipe(recipe_url):\n",
        "    recipe_response = requests.get(recipe_url)\n",
        "    recipe_soup = bs4.BeautifulSoup(recipe_response.text, 'html.parser')\n",
        "\n",
        "    recipe_name = recipe_soup.find('h1', class_=\"heading-1\").text.strip()\n",
        "    recipe_names.append(recipe_name)\n",
        "\n",
        "    try:\n",
        "        prep_time = recipe_soup.find('time').text.strip()\n",
        "        cook_time.append(prep_time)\n",
        "    except:\n",
        "        cook_time.append(None)\n",
        "\n",
        "    ingredients = recipe_soup.find_all('li', class_='pb-xxs pt-xxs list-item list-item--separator')\n",
        "    ingredients_text = [ingredient.text.strip() for ingredient in ingredients]\n",
        "    ingredients_list.append(ingredients_text)\n",
        "\n",
        "    instructions = recipe_soup.find_all('li', class_='pb-xs pt-xs list-item')\n",
        "    instructions_text = [instruction.text.strip() for instruction in instructions]\n",
        "    instructions_list.append(instructions_text)\n",
        "\n",
        "    image = recipe_soup.find('img', class_=\"image__img\")['src']\n",
        "    image_links.append(image)\n",
        "\n",
        "#--------------------------------------------------------------------------------------------\n",
        "\n",
        "def get_recipe_links(main_page_url):\n",
        "    recipe_links = []\n",
        "    for guide_link in guide_links:\n",
        "        response = requests.get(main_page_url + guide_link)\n",
        "        soup = bs4.BeautifulSoup(response.text, 'html.parser')\n",
        "        for link in soup.find_all('a', {'class' : 'link d-block', 'data-component' : 'Link'}):\n",
        "            if '/recipes/' in link['href']:\n",
        "                recipe_links.append(\"https://www.bbcgoodfood.com\" + link['href'])\n",
        "              \n",
        "    return recipe_links\n",
        "\n",
        "\n",
        "main_page_url = 'https://www.bbcgoodfood.com'\n",
        "recipe_links = get_recipe_links(main_page_url)\n",
        "\n",
        "for recipe_link in recipe_links:\n",
        "    scrape_recipe(recipe_link)\n",
        "\n",
        "\n",
        "with open('bbc_good_food_recipes.csv', mode='w', newline='', encoding='utf-8') as file:\n",
        "    writer = csv.writer(file)\n",
        "    writer.writerow(['Recipe Name', 'Ingredients', 'Instructions', 'Image Link', 'Cook Time'])\n",
        "    for i in range(len(recipe_names)):\n",
        "        if cook_time[i] is not None:\n",
        "            writer.writerow([recipe_names[i], \", \".join(ingredients_list[i]), \" \".join(instructions_list[i]), image_links[i], cook_time[i]])\n",
        "        else:\n",
        "            continue\n",
        "\n",
        "print(\"Scraping complete! Data saved to bbc_good_food_recipes.csv\")"
      ]
    },
    {
      "cell_type": "code",
      "execution_count": 50,
      "metadata": {},
      "outputs": [
        {
          "name": "stdout",
          "output_type": "stream",
          "text": [
            "(697, 5)\n"
          ]
        },
        {
          "data": {
            "text/html": [
              "<div>\n",
              "<style scoped>\n",
              "    .dataframe tbody tr th:only-of-type {\n",
              "        vertical-align: middle;\n",
              "    }\n",
              "\n",
              "    .dataframe tbody tr th {\n",
              "        vertical-align: top;\n",
              "    }\n",
              "\n",
              "    .dataframe thead th {\n",
              "        text-align: right;\n",
              "    }\n",
              "</style>\n",
              "<table border=\"1\" class=\"dataframe\">\n",
              "  <thead>\n",
              "    <tr style=\"text-align: right;\">\n",
              "      <th></th>\n",
              "      <th>Recipe Name</th>\n",
              "      <th>Ingredients</th>\n",
              "      <th>Instructions</th>\n",
              "      <th>Image Link</th>\n",
              "      <th>Cook Time</th>\n",
              "    </tr>\n",
              "  </thead>\n",
              "  <tbody>\n",
              "    <tr>\n",
              "      <th>0</th>\n",
              "      <td>Mango chutney &amp; chicken sliders</td>\n",
              "      <td>100ml natural yogurt, 3 tbsp mayonnaise, ½ sma...</td>\n",
              "      <td>STEP 1Mix the yogurt, mayonnaise and mint toge...</td>\n",
              "      <td>https://images.immediate.co.uk/production/vola...</td>\n",
              "      <td>20 mins</td>\n",
              "    </tr>\n",
              "    <tr>\n",
              "      <th>1</th>\n",
              "      <td>Peach panzanella</td>\n",
              "      <td>6 thin slices of brioche loaf, cut into cubes,...</td>\n",
              "      <td>STEP 1Make the dressing by whisking the oil, l...</td>\n",
              "      <td>https://images.immediate.co.uk/production/vola...</td>\n",
              "      <td>20 mins</td>\n",
              "    </tr>\n",
              "    <tr>\n",
              "      <th>2</th>\n",
              "      <td>Crispy shredded chicken</td>\n",
              "      <td>320g pack  chicken mini breast fillets, 2½ tbs...</td>\n",
              "      <td>STEP 1Slice the chicken into thin strips. Pour...</td>\n",
              "      <td>https://images.immediate.co.uk/production/vola...</td>\n",
              "      <td>10 mins</td>\n",
              "    </tr>\n",
              "    <tr>\n",
              "      <th>3</th>\n",
              "      <td>Pulled pork sloppy joe dogs</td>\n",
              "      <td>1 tbsp sunflower oil, 2 onions, halved and sli...</td>\n",
              "      <td>STEP 1Heat the oil in a pan and fry the onions...</td>\n",
              "      <td>https://images.immediate.co.uk/production/vola...</td>\n",
              "      <td>20 mins</td>\n",
              "    </tr>\n",
              "    <tr>\n",
              "      <th>4</th>\n",
              "      <td>Panuozzo sandwich</td>\n",
              "      <td>300g strong white bread flour, plus extra for ...</td>\n",
              "      <td>STEP 1Put the flour in a large bowl, then stir...</td>\n",
              "      <td>https://images.immediate.co.uk/production/vola...</td>\n",
              "      <td>20 mins</td>\n",
              "    </tr>\n",
              "  </tbody>\n",
              "</table>\n",
              "</div>"
            ],
            "text/plain": [
              "                       Recipe Name  \\\n",
              "0  Mango chutney & chicken sliders   \n",
              "1                 Peach panzanella   \n",
              "2          Crispy shredded chicken   \n",
              "3      Pulled pork sloppy joe dogs   \n",
              "4                Panuozzo sandwich   \n",
              "\n",
              "                                         Ingredients  \\\n",
              "0  100ml natural yogurt, 3 tbsp mayonnaise, ½ sma...   \n",
              "1  6 thin slices of brioche loaf, cut into cubes,...   \n",
              "2  320g pack  chicken mini breast fillets, 2½ tbs...   \n",
              "3  1 tbsp sunflower oil, 2 onions, halved and sli...   \n",
              "4  300g strong white bread flour, plus extra for ...   \n",
              "\n",
              "                                        Instructions  \\\n",
              "0  STEP 1Mix the yogurt, mayonnaise and mint toge...   \n",
              "1  STEP 1Make the dressing by whisking the oil, l...   \n",
              "2  STEP 1Slice the chicken into thin strips. Pour...   \n",
              "3  STEP 1Heat the oil in a pan and fry the onions...   \n",
              "4  STEP 1Put the flour in a large bowl, then stir...   \n",
              "\n",
              "                                          Image Link Cook Time  \n",
              "0  https://images.immediate.co.uk/production/vola...   20 mins  \n",
              "1  https://images.immediate.co.uk/production/vola...   20 mins  \n",
              "2  https://images.immediate.co.uk/production/vola...   10 mins  \n",
              "3  https://images.immediate.co.uk/production/vola...   20 mins  \n",
              "4  https://images.immediate.co.uk/production/vola...   20 mins  "
            ]
          },
          "execution_count": 50,
          "metadata": {},
          "output_type": "execute_result"
        }
      ],
      "source": [
        "import pandas as pd\n",
        "df = pd.read_csv(\"C:/Users/Akanksha/PROJECTS/Web_Scraping_Projects/CookMatch/bbc_good_food_recipes.csv\")\n",
        "print(df.shape)\n",
        "df.head()"
      ]
    },
    {
      "cell_type": "code",
      "execution_count": 51,
      "metadata": {},
      "outputs": [
        {
          "data": {
            "text/html": [
              "<pre style=\"white-space:pre;overflow-x:auto;line-height:normal;font-family:Menlo,'DejaVu Sans Mono',consolas,'Courier New',monospace\">╭──────────────────────────────────────────────── skimpy summary ─────────────────────────────────────────────────╮\n",
              "│ <span style=\"font-style: italic\">         Data Summary         </span> <span style=\"font-style: italic\">      Data Types       </span>                                                          │\n",
              "│ ┏━━━━━━━━━━━━━━━━━━━┳━━━━━━━━┓ ┏━━━━━━━━━━━━━┳━━━━━━━┓                                                          │\n",
              "│ ┃<span style=\"color: #008080; text-decoration-color: #008080; font-weight: bold\"> dataframe         </span>┃<span style=\"color: #008080; text-decoration-color: #008080; font-weight: bold\"> Values </span>┃ ┃<span style=\"color: #008080; text-decoration-color: #008080; font-weight: bold\"> Column Type </span>┃<span style=\"color: #008080; text-decoration-color: #008080; font-weight: bold\"> Count </span>┃                                                          │\n",
              "│ ┡━━━━━━━━━━━━━━━━━━━╇━━━━━━━━┩ ┡━━━━━━━━━━━━━╇━━━━━━━┩                                                          │\n",
              "│ │ Number of rows    │ 697    │ │ string      │ 5     │                                                          │\n",
              "│ │ Number of columns │ 5      │ └─────────────┴───────┘                                                          │\n",
              "│ └───────────────────┴────────┘                                                                                  │\n",
              "│ <span style=\"font-style: italic\">                                                    string                                                    </span>  │\n",
              "│ ┏━━━━━━━━━━━━━━━━━━━━━━━━━━━━┳━━━━━━━━┳━━━━━━━━━━━━┳━━━━━━━━━━━━━━━━━━━━━━━━━━━━━━┳━━━━━━━━━━━━━━━━━━━━━━━━━━┓  │\n",
              "│ ┃<span style=\"font-weight: bold\"> column_name                </span>┃<span style=\"font-weight: bold\"> NA     </span>┃<span style=\"font-weight: bold\"> NA %       </span>┃<span style=\"font-weight: bold\"> words per row                </span>┃<span style=\"font-weight: bold\"> total words              </span>┃  │\n",
              "│ ┡━━━━━━━━━━━━━━━━━━━━━━━━━━━━╇━━━━━━━━╇━━━━━━━━━━━━╇━━━━━━━━━━━━━━━━━━━━━━━━━━━━━━╇━━━━━━━━━━━━━━━━━━━━━━━━━━┩  │\n",
              "│ │ <span style=\"color: #af87ff; text-decoration-color: #af87ff\">Recipe Name               </span> │ <span style=\"color: #008080; text-decoration-color: #008080\">     0</span> │ <span style=\"color: #008080; text-decoration-color: #008080\">         0</span> │ <span style=\"color: #008080; text-decoration-color: #008080\">                         4.1</span> │ <span style=\"color: #008080; text-decoration-color: #008080\">                    2852</span> │  │\n",
              "│ │ <span style=\"color: #af87ff; text-decoration-color: #af87ff\">Ingredients               </span> │ <span style=\"color: #008080; text-decoration-color: #008080\">     0</span> │ <span style=\"color: #008080; text-decoration-color: #008080\">         0</span> │ <span style=\"color: #008080; text-decoration-color: #008080\">                          54</span> │ <span style=\"color: #008080; text-decoration-color: #008080\">                   37402</span> │  │\n",
              "│ │ <span style=\"color: #af87ff; text-decoration-color: #af87ff\">Instructions              </span> │ <span style=\"color: #008080; text-decoration-color: #008080\">     0</span> │ <span style=\"color: #008080; text-decoration-color: #008080\">         0</span> │ <span style=\"color: #008080; text-decoration-color: #008080\">                         160</span> │ <span style=\"color: #008080; text-decoration-color: #008080\">                  109372</span> │  │\n",
              "│ │ <span style=\"color: #af87ff; text-decoration-color: #af87ff\">Image Link                </span> │ <span style=\"color: #008080; text-decoration-color: #008080\">     0</span> │ <span style=\"color: #008080; text-decoration-color: #008080\">         0</span> │ <span style=\"color: #008080; text-decoration-color: #008080\">                           1</span> │ <span style=\"color: #008080; text-decoration-color: #008080\">                     697</span> │  │\n",
              "│ │ <span style=\"color: #af87ff; text-decoration-color: #af87ff\">Cook Time                 </span> │ <span style=\"color: #008080; text-decoration-color: #008080\">     0</span> │ <span style=\"color: #008080; text-decoration-color: #008080\">         0</span> │ <span style=\"color: #008080; text-decoration-color: #008080\">                           2</span> │ <span style=\"color: #008080; text-decoration-color: #008080\">                    1409</span> │  │\n",
              "│ └────────────────────────────┴────────┴────────────┴──────────────────────────────┴──────────────────────────┘  │\n",
              "╰────────────────────────────────────────────────────── End ──────────────────────────────────────────────────────╯\n",
              "</pre>\n"
            ],
            "text/plain": [
              "╭──────────────────────────────────────────────── skimpy summary ─────────────────────────────────────────────────╮\n",
              "│ \u001b[3m         Data Summary         \u001b[0m \u001b[3m      Data Types       \u001b[0m                                                          │\n",
              "│ ┏━━━━━━━━━━━━━━━━━━━┳━━━━━━━━┓ ┏━━━━━━━━━━━━━┳━━━━━━━┓                                                          │\n",
              "│ ┃\u001b[1;36m \u001b[0m\u001b[1;36mdataframe        \u001b[0m\u001b[1;36m \u001b[0m┃\u001b[1;36m \u001b[0m\u001b[1;36mValues\u001b[0m\u001b[1;36m \u001b[0m┃ ┃\u001b[1;36m \u001b[0m\u001b[1;36mColumn Type\u001b[0m\u001b[1;36m \u001b[0m┃\u001b[1;36m \u001b[0m\u001b[1;36mCount\u001b[0m\u001b[1;36m \u001b[0m┃                                                          │\n",
              "│ ┡━━━━━━━━━━━━━━━━━━━╇━━━━━━━━┩ ┡━━━━━━━━━━━━━╇━━━━━━━┩                                                          │\n",
              "│ │ Number of rows    │ 697    │ │ string      │ 5     │                                                          │\n",
              "│ │ Number of columns │ 5      │ └─────────────┴───────┘                                                          │\n",
              "│ └───────────────────┴────────┘                                                                                  │\n",
              "│ \u001b[3m                                                    string                                                    \u001b[0m  │\n",
              "│ ┏━━━━━━━━━━━━━━━━━━━━━━━━━━━━┳━━━━━━━━┳━━━━━━━━━━━━┳━━━━━━━━━━━━━━━━━━━━━━━━━━━━━━┳━━━━━━━━━━━━━━━━━━━━━━━━━━┓  │\n",
              "│ ┃\u001b[1m \u001b[0m\u001b[1mcolumn_name               \u001b[0m\u001b[1m \u001b[0m┃\u001b[1m \u001b[0m\u001b[1mNA    \u001b[0m\u001b[1m \u001b[0m┃\u001b[1m \u001b[0m\u001b[1mNA %      \u001b[0m\u001b[1m \u001b[0m┃\u001b[1m \u001b[0m\u001b[1mwords per row               \u001b[0m\u001b[1m \u001b[0m┃\u001b[1m \u001b[0m\u001b[1mtotal words             \u001b[0m\u001b[1m \u001b[0m┃  │\n",
              "│ ┡━━━━━━━━━━━━━━━━━━━━━━━━━━━━╇━━━━━━━━╇━━━━━━━━━━━━╇━━━━━━━━━━━━━━━━━━━━━━━━━━━━━━╇━━━━━━━━━━━━━━━━━━━━━━━━━━┩  │\n",
              "│ │ \u001b[38;5;141mRecipe Name               \u001b[0m │ \u001b[36m     0\u001b[0m │ \u001b[36m         0\u001b[0m │ \u001b[36m                         4.1\u001b[0m │ \u001b[36m                    2852\u001b[0m │  │\n",
              "│ │ \u001b[38;5;141mIngredients               \u001b[0m │ \u001b[36m     0\u001b[0m │ \u001b[36m         0\u001b[0m │ \u001b[36m                          54\u001b[0m │ \u001b[36m                   37402\u001b[0m │  │\n",
              "│ │ \u001b[38;5;141mInstructions              \u001b[0m │ \u001b[36m     0\u001b[0m │ \u001b[36m         0\u001b[0m │ \u001b[36m                         160\u001b[0m │ \u001b[36m                  109372\u001b[0m │  │\n",
              "│ │ \u001b[38;5;141mImage Link                \u001b[0m │ \u001b[36m     0\u001b[0m │ \u001b[36m         0\u001b[0m │ \u001b[36m                           1\u001b[0m │ \u001b[36m                     697\u001b[0m │  │\n",
              "│ │ \u001b[38;5;141mCook Time                 \u001b[0m │ \u001b[36m     0\u001b[0m │ \u001b[36m         0\u001b[0m │ \u001b[36m                           2\u001b[0m │ \u001b[36m                    1409\u001b[0m │  │\n",
              "│ └────────────────────────────┴────────┴────────────┴──────────────────────────────┴──────────────────────────┘  │\n",
              "╰────────────────────────────────────────────────────── End ──────────────────────────────────────────────────────╯\n"
            ]
          },
          "metadata": {},
          "output_type": "display_data"
        }
      ],
      "source": [
        "from skimpy import skim\n",
        "skim(df)"
      ]
    },
    {
      "cell_type": "code",
      "execution_count": null,
      "metadata": {},
      "outputs": [],
      "source": []
    }
  ],
  "metadata": {
    "colab": {
      "provenance": []
    },
    "kernelspec": {
      "display_name": "Python 3",
      "name": "python3"
    },
    "language_info": {
      "codemirror_mode": {
        "name": "ipython",
        "version": 3
      },
      "file_extension": ".py",
      "mimetype": "text/x-python",
      "name": "python",
      "nbconvert_exporter": "python",
      "pygments_lexer": "ipython3",
      "version": "3.11.7"
    }
  },
  "nbformat": 4,
  "nbformat_minor": 0
}
